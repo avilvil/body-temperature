{
 "cells": [
  {
   "cell_type": "markdown",
   "metadata": {},
   "source": [
    "# What is the True Normal Human Body Temperature? \n",
    "\n",
    "#### Background\n",
    "\n",
    "The mean normal body temperature was held to be 37$^{\\circ}$C or 98.6$^{\\circ}$F for more than 120 years since it was first conceptualized and reported by Carl Wunderlich in a famous 1868 book. But, is this value statistically correct?"
   ]
  },
  {
   "cell_type": "markdown",
   "metadata": {},
   "source": [
    "<h3>Exercises</h3>\n",
    "\n",
    "<p>In this exercise, you will analyze a dataset of human body temperatures and employ the concepts of hypothesis testing, confidence intervals, and statistical significance.</p>\n",
    "\n",
    "<p>Answer the following questions <b>in this notebook below and submit to your Github account</b>.</p> \n",
    "\n",
    "<ol>\n",
    "<li>  Is the distribution of body temperatures normal? \n",
    "    <ul>\n",
    "    <li> Although this is not a requirement for the Central Limit Theorem to hold (read the introduction on Wikipedia's page about the CLT carefully: https://en.wikipedia.org/wiki/Central_limit_theorem), it gives us some peace of mind that the population may also be normally distributed if we assume that this sample is representative of the population.\n",
    "    <li> Think about the way you're going to check for the normality of the distribution. Graphical methods are usually used first, but there are also other ways: https://en.wikipedia.org/wiki/Normality_test\n",
    "    </ul>\n",
    "<li>  Is the sample size large? Are the observations independent?\n",
    "    <ul>\n",
    "    <li> Remember that this is a condition for the Central Limit Theorem, and hence the statistical tests we are using, to apply.\n",
    "    </ul>\n",
    "<li>  Is the true population mean really 98.6 degrees F?\n",
    "    <ul>\n",
    "    <li> First, try a bootstrap hypothesis test.\n",
    "    <li> Now, let's try frequentist statistical testing. Would you use a one-sample or two-sample test? Why?\n",
    "    <li> In this situation, is it appropriate to use the $t$ or $z$ statistic? \n",
    "    <li> Now try using the other test. How is the result be different? Why?\n",
    "    </ul>\n",
    "<li>  Draw a small sample of size 10 from the data and repeat both frequentist tests. \n",
    "    <ul>\n",
    "    <li> Which one is the correct one to use? \n",
    "    <li> What do you notice? What does this tell you about the difference in application of the $t$ and $z$ statistic?\n",
    "    </ul>\n",
    "<li>  At what temperature should we consider someone's temperature to be \"abnormal\"?\n",
    "    <ul>\n",
    "    <li> As in the previous example, try calculating everything using the bootstrap approach, as well as the frequentist approach.\n",
    "    <li> Start by computing the margin of error and confidence interval. When calculating the confidence interval, keep in mind that you should use the appropriate formula for one draw, and not N draws.\n",
    "    </ul>\n",
    "<li>  Is there a significant difference between males and females in normal temperature?\n",
    "    <ul>\n",
    "    <li> What testing approach did you use and why?\n",
    "    <li> Write a story with your conclusion in the context of the original problem.\n",
    "    </ul>\n",
    "</ol>\n",
    "\n",
    "You can include written notes in notebook cells using Markdown: \n",
    "   - In the control panel at the top, choose Cell > Cell Type > Markdown\n",
    "   - Markdown syntax: http://nestacms.com/docs/creating-content/markdown-cheat-sheet\n",
    "\n",
    "#### Resources\n",
    "\n",
    "+ Information and data sources: http://www.amstat.org/publications/jse/datasets/normtemp.txt, http://www.amstat.org/publications/jse/jse_data_archive.htm\n",
    "+ Markdown syntax: http://nestacms.com/docs/creating-content/markdown-cheat-sheet\n",
    "\n",
    "****"
   ]
  },
  {
   "cell_type": "code",
   "execution_count": 1,
   "metadata": {},
   "outputs": [],
   "source": [
    "import pandas as pd\n",
    "\n",
    "df = pd.read_csv('data/human_body_temperature.csv')"
   ]
  },
  {
   "cell_type": "code",
   "execution_count": 2,
   "metadata": {},
   "outputs": [
    {
     "data": {
      "text/html": [
       "<div>\n",
       "<style scoped>\n",
       "    .dataframe tbody tr th:only-of-type {\n",
       "        vertical-align: middle;\n",
       "    }\n",
       "\n",
       "    .dataframe tbody tr th {\n",
       "        vertical-align: top;\n",
       "    }\n",
       "\n",
       "    .dataframe thead th {\n",
       "        text-align: right;\n",
       "    }\n",
       "</style>\n",
       "<table border=\"1\" class=\"dataframe\">\n",
       "  <thead>\n",
       "    <tr style=\"text-align: right;\">\n",
       "      <th></th>\n",
       "      <th>temperature</th>\n",
       "      <th>gender</th>\n",
       "      <th>heart_rate</th>\n",
       "    </tr>\n",
       "  </thead>\n",
       "  <tbody>\n",
       "    <tr>\n",
       "      <th>0</th>\n",
       "      <td>99.3</td>\n",
       "      <td>F</td>\n",
       "      <td>68.0</td>\n",
       "    </tr>\n",
       "    <tr>\n",
       "      <th>1</th>\n",
       "      <td>98.4</td>\n",
       "      <td>F</td>\n",
       "      <td>81.0</td>\n",
       "    </tr>\n",
       "    <tr>\n",
       "      <th>2</th>\n",
       "      <td>97.8</td>\n",
       "      <td>M</td>\n",
       "      <td>73.0</td>\n",
       "    </tr>\n",
       "    <tr>\n",
       "      <th>3</th>\n",
       "      <td>99.2</td>\n",
       "      <td>F</td>\n",
       "      <td>66.0</td>\n",
       "    </tr>\n",
       "    <tr>\n",
       "      <th>4</th>\n",
       "      <td>98.0</td>\n",
       "      <td>F</td>\n",
       "      <td>73.0</td>\n",
       "    </tr>\n",
       "  </tbody>\n",
       "</table>\n",
       "</div>"
      ],
      "text/plain": [
       "   temperature gender  heart_rate\n",
       "0         99.3      F        68.0\n",
       "1         98.4      F        81.0\n",
       "2         97.8      M        73.0\n",
       "3         99.2      F        66.0\n",
       "4         98.0      F        73.0"
      ]
     },
     "execution_count": 2,
     "metadata": {},
     "output_type": "execute_result"
    }
   ],
   "source": [
    "# Print data sample\n",
    "df.head()"
   ]
  },
  {
   "cell_type": "code",
   "execution_count": 3,
   "metadata": {},
   "outputs": [],
   "source": [
    "#Import modules\n",
    "import matplotlib.pyplot as plt\n",
    "import seaborn as sns\n",
    "import numpy as np\n",
    "import scipy.stats as st"
   ]
  },
  {
   "cell_type": "markdown",
   "metadata": {},
   "source": [
    "<h3>Question 1: Is the distribution of body temperatures normal?</h3>"
   ]
  },
  {
   "cell_type": "code",
   "execution_count": 4,
   "metadata": {},
   "outputs": [
    {
     "data": {
      "image/png": "[encoded data removed]",
      "text/plain": [
       "<Figure size 432x288 with 1 Axes>"
      ]
     },
     "metadata": {},
     "output_type": "display_data"
    }
   ],
   "source": [
    "#Compute mean and standard deviation of temperature data\n",
    "temp_mean=np.mean(df.temperature)\n",
    "temp_std=np.std(df.temperature)\n",
    "\n",
    "#Create samples of Normal distribution with temperature parameters\n",
    "theo_norm=np.random.normal(temp_mean,temp_std,1000000)\n",
    "\n",
    "#Plot temperature data histogram and normal distribution\n",
    "_ = plt.hist(df.temperature, bins=20, density=True)\n",
    "_ = plt.hist(theo_norm,bins=100,histtype='step',color='red',density=True)\n",
    "_ = plt.ylabel('PDF')\n",
    "_ = plt.xlabel('Body temperature in F')\n",
    "_ = plt.legend(('sample','normal dist.'))\n",
    "plt.show()"
   ]
  },
  {
   "cell_type": "code",
   "execution_count": 5,
   "metadata": {},
   "outputs": [],
   "source": [
    "def ecdf(data):\n",
    "    \"\"\"Compute ECDF for a one-dimensional array of measurements.\"\"\"\n",
    "    # Number of data points: n\n",
    "    n=len(data)\n",
    "\n",
    "    # x-data for the ECDF: x\n",
    "    x=np.sort(data)\n",
    "\n",
    "    # y-data for the ECDF: y\n",
    "    y = np.arange(1, n+1) / n\n",
    "\n",
    "    return x, y"
   ]
  },
  {
   "cell_type": "code",
   "execution_count": 6,
   "metadata": {},
   "outputs": [
    {
     "data": {
      "image/png": "[encoded data removed]",
      "text/plain": [
       "<Figure size 432x288 with 1 Axes>"
      ]
     },
     "metadata": {},
     "output_type": "display_data"
    }
   ],
   "source": [
    "#Compute ecdf values for temperature data\n",
    "x_temp,y_temp=ecdf(df.temperature)\n",
    "\n",
    "#Compute ecdf values for equivalent normal distribution\n",
    "x_theo,y_theo=ecdf(theo_norm)\n",
    "\n",
    "#Plot ecdfs for both distributions\n",
    "plt.plot(x_theo,y_theo)\n",
    "plt.plot(x_temp,y_temp,marker='.',linestyle='none')\n",
    "\n",
    "#Add labels\n",
    "plt.ylabel('ECDF')\n",
    "plt.xlabel('temperature F')\n",
    "plt.legend(('Normal dist.','Temp. data'))\n",
    "\n",
    "#Display plot\n",
    "plt.show()"
   ]
  },
  {
   "cell_type": "code",
   "execution_count": 7,
   "metadata": {},
   "outputs": [
    {
     "data": {
      "image/png": "[encoded data removed]",
      "text/plain": [
       "<Figure size 432x288 with 1 Axes>"
      ]
     },
     "metadata": {},
     "output_type": "display_data"
    }
   ],
   "source": [
    "#Compute length of temperature series\n",
    "n=len(df.temperature)\n",
    "\n",
    "#Compute percentiles to be represented in the Q-Q plot\n",
    "percentiles=[i/(n)*100 for i in range(n)]\n",
    "\n",
    "#Sort temperature values in an array: temp_sorted\n",
    "temp_sorted=df.temperature.sort_values().values\n",
    "\n",
    "#Compute values of normal distribution related to computed percentiles\n",
    "norm_values=np.percentile(theo_norm,percentiles)\n",
    "\n",
    "#Compute slope and intercept of linear regression \n",
    "slope,intercept=np.polyfit(norm_values,temp_sorted,1)\n",
    "points=np.array([95.0,101.0])\n",
    "\n",
    "#Plot temperature vs. equivalent normal distribution percentiles: Q-Q plot\n",
    "plt.plot(norm_values,temp_sorted,marker='.',linestyle='none')\n",
    "\n",
    "#Plot linear regression\n",
    "plt.plot(points,slope*points+intercept)\n",
    "\n",
    "#Add labels and title\n",
    "plt.ylabel('temperature samples F')\n",
    "plt.xlabel('normal theoretical quantiles')\n",
    "plt.title('Q-Q plot')\n",
    "plt.show()"
   ]
  },
  {
   "cell_type": "markdown",
   "metadata": {},
   "source": [
    "1. Is the distribution of body temperatures normal? \n",
    "\n",
    "The data fits pretty good the normal distribution in the ECDF plot.\n",
    "\n",
    "Based on the Q-Q plot above, even though there are a few outliers, the data fits pretty good a line and therefore the body temperature has a normal distribution."
   ]
  },
  {
   "cell_type": "markdown",
   "metadata": {},
   "source": [
    "<h3>Question 2: Is the sample size large? Are the observations independent?</h3>"
   ]
  },
  {
   "cell_type": "code",
   "execution_count": 8,
   "metadata": {},
   "outputs": [],
   "source": [
    "#Function that generates many bootstrap replicates from a data set\n",
    "def draw_bs_reps(data, func, reps=1):\n",
    "    \n",
    "    # Initialize array of replicates: bs_replicates\n",
    "    bs_replicates=np.empty(reps)\n",
    "    \n",
    "    # Generate replicates\n",
    "    for i in range(reps):\n",
    "        bs_replicates[i]=func(np.random.choice(data, size=len(data)))\n",
    "        \n",
    "    return bs_replicates"
   ]
  },
  {
   "cell_type": "markdown",
   "metadata": {},
   "source": [
    "In order to check if the sample is large enough and the observations are independent, according to the central limit theorem (CLT) we can check if the arithmetic average of a sample taking a large number of samples of the data is normally distributed. \n",
    "\n",
    "Since we don't have the entire population, we will generate bootstrap replicates of the temperature data, computing the mean and check if they fit a normal distribution."
   ]
  },
  {
   "cell_type": "code",
   "execution_count": 9,
   "metadata": {},
   "outputs": [
    {
     "data": {
      "image/png": "[encoded data removed]",
      "text/plain": [
       "<Figure size 432x288 with 1 Axes>"
      ]
     },
     "metadata": {},
     "output_type": "display_data"
    }
   ],
   "source": [
    "#Generate bootstrap replicates of the temperature data set\n",
    "bs_replicates=draw_bs_reps(df.temperature,np.mean,reps=100000)\n",
    "\n",
    "#Compute mean and standard deviation of bs_replicates \n",
    "bs_replicates_mean=np.mean(bs_replicates)\n",
    "bs_replicates_std=np.std(bs_replicates)\n",
    "\n",
    "#Generate normal distribution points with bs_replicates_mean and bs_replicates_std\n",
    "theo_norm_replicates=np.random.normal(bs_replicates_mean,bs_replicates_std,100000)\n",
    "\n",
    "\n",
    "#Plot bs_replicates\n",
    "_ = plt.hist(bs_replicates, bins=100, density=True)\n",
    "\n",
    "#Plot equivalent theoreritecal normal distribution\n",
    "_ = plt.hist(theo_norm_replicates, bins=100, histtype='step', color='red', density=True)\n",
    "\n",
    "#Add labels\n",
    "_ = plt.ylabel('PDF')\n",
    "_ = plt.xlabel('Mean temperature (F)')\n",
    "\n",
    "plt.show()"
   ]
  },
  {
   "cell_type": "markdown",
   "metadata": {},
   "source": [
    "2. Is the sample size large? Are the observations independent?\n",
    "\n",
    "After generating several data samples and computing the mean for each of them, we see above that the means of the samples are normally distributed. We can assume that the observations are independent and that the sample size is large enough."
   ]
  },
  {
   "cell_type": "markdown",
   "metadata": {},
   "source": [
    "<h3>Question 3: Is the true population mean really 98.6 degrees F?</h3>"
   ]
  },
  {
   "cell_type": "markdown",
   "metadata": {},
   "source": [
    "<h4>Bootstrap hypothesis test</h4>\n",
    "\n",
    "We will try first a bootstrap hypothesis test. \n",
    "\n",
    "Null hypothesis: the true mean of the temperature data is 98.6 F, reported by Carl Wunderlich.\n",
    "\n",
    "H0: μ=μ0\n",
    "\n",
    "The test statistic is the difference between the data mean and Carl's value (98.6 F)."
   ]
  },
  {
   "cell_type": "code",
   "execution_count": 10,
   "metadata": {},
   "outputs": [],
   "source": [
    "#Define Carl Wunderlich mean normal body temperature\n",
    "bt_value=98.6\n",
    "\n",
    "#Shift the temperature data so the new mean is 98.6F.\n",
    "temp_shifted= df.temperature - temp_mean + bt_value"
   ]
  },
  {
   "cell_type": "code",
   "execution_count": 11,
   "metadata": {},
   "outputs": [],
   "source": [
    "#Function to compute test statistic: difference between data mean and body normal temperature\n",
    "def diff_from_bt(data, bt_value=98.6):\n",
    "    return np.mean(data)-bt_value"
   ]
  },
  {
   "cell_type": "code",
   "execution_count": 12,
   "metadata": {},
   "outputs": [
    {
     "name": "stdout",
     "output_type": "stream",
     "text": [
      "Mean temperature - 98.6 F:  -0.35076923076921673 F\n",
      "p-value:  0.0\n"
     ]
    }
   ],
   "source": [
    "#Difference from temperature data mean and Carl's number\n",
    "diff_obs=diff_from_bt(df.temperature)\n",
    "print('Mean temperature - 98.6 F: ',diff_obs,'F')\n",
    "\n",
    "#Create bootstrap replicates of the shifted data\n",
    "bs_replicates=draw_bs_reps(temp_shifted, diff_from_bt, reps=100000)\n",
    "\n",
    "#Compute p-value\n",
    "p_value=np.sum(bs_replicates<=diff_obs)/len(bs_replicates)\n",
    "print('p-value: ',p_value)"
   ]
  },
  {
   "cell_type": "markdown",
   "metadata": {},
   "source": [
    "Since the p value is really small, it is very unlikely that the true population mean is 98.6 F. The null hypothesis is rejected."
   ]
  },
  {
   "cell_type": "markdown",
   "metadata": {},
   "source": [
    "<h4>Frequentist statistical testing</h4>\n",
    "\n",
    "One-sample test is used since we only have the dataset provided but not the data that Carl Wunderlich used to determine the value 98.6F.\n",
    "\n",
    "In this particular case we will use t statistic since we don't know the variance of the population, we only know the mean.\n",
    "\n",
    "We state our null and alternative hypothesis:\n",
    "\n",
    "H0 : μ = 98.6 versus HA : μ ≠ 98.6"
   ]
  },
  {
   "cell_type": "code",
   "execution_count": 13,
   "metadata": {},
   "outputs": [],
   "source": [
    "#Function to compute t-score\n",
    "def t_score_from_bt(data,bt_value=98.6):\n",
    "    return (np.mean(data)-bt_value)/(np.std(data)/(len(data)**0.5))"
   ]
  },
  {
   "cell_type": "code",
   "execution_count": 14,
   "metadata": {},
   "outputs": [
    {
     "name": "stdout",
     "output_type": "stream",
     "text": [
      "t-score:  -5.475925202078116\n"
     ]
    }
   ],
   "source": [
    "#Compute t-score of temperature data\n",
    "t_score=t_score_from_bt(df.temperature)\n",
    "print('t-score: ',t_score)"
   ]
  },
  {
   "cell_type": "code",
   "execution_count": 15,
   "metadata": {},
   "outputs": [
    {
     "data": {
      "image/png": "[encoded data removed]",
      "text/plain": [
       "<Figure size 432x288 with 1 Axes>"
      ]
     },
     "metadata": {},
     "output_type": "display_data"
    }
   ],
   "source": [
    "#Compute degrees of freedom in t-distribution\n",
    "dof=len(df.temperature)-1\n",
    "\n",
    "#Generate t-distribution\n",
    "t_dist_values=np.random.standard_t(dof,size=100000)\n",
    "\n",
    "#Plot t-distribution\n",
    "plt.hist(t_dist_values,bins=100, histtype='step', color='red', density=True)\n",
    "\n",
    "#Add labels\n",
    "plt.ylabel('PDF')\n",
    "plt.xlabel('x')\n",
    "plt.title('Distribution T')\n",
    "plt.show()"
   ]
  },
  {
   "cell_type": "markdown",
   "metadata": {},
   "source": [
    "Since out hypothesis corresponds to a two-tailed test, there are two critical values to be computed:\n",
    "    t(α/2, n - 1) and - t(α/2, n - 1)\n",
    "\n",
    "We set our significance level α at 0.01"
   ]
  },
  {
   "cell_type": "code",
   "execution_count": 16,
   "metadata": {},
   "outputs": [
    {
     "name": "stdout",
     "output_type": "stream",
     "text": [
      "[-2.62528751  2.61853385]\n"
     ]
    }
   ],
   "source": [
    "#Compute critical values: t(α/2, n - 1) and - t(α/2, n - 1)\n",
    "critical_values_t=np.percentile(t_dist_values,[0.5,99.5])\n",
    "print(critical_values_t)"
   ]
  },
  {
   "cell_type": "markdown",
   "metadata": {},
   "source": [
    "Since the t_score (-5.48) is smaller than our lower critical value, we reject the null hypothesis. It is very unlikely that normal body temperature is 98.6 F. "
   ]
  },
  {
   "cell_type": "markdown",
   "metadata": {},
   "source": [
    "In order to apply the z statistic test we would need to know the population standard deviation. Since we don't know it, we will use the sample one as an estimate."
   ]
  },
  {
   "cell_type": "code",
   "execution_count": 17,
   "metadata": {},
   "outputs": [
    {
     "name": "stdout",
     "output_type": "stream",
     "text": [
      "z-score:  -5.475925202078116\n"
     ]
    }
   ],
   "source": [
    "#Compute z-score: the same as t_score since we are using the sample std as population std\n",
    "#estimation\n",
    "\n",
    "z_score=t_score\n",
    "print('z-score: ',z_score)"
   ]
  },
  {
   "cell_type": "code",
   "execution_count": 18,
   "metadata": {},
   "outputs": [
    {
     "name": "stdout",
     "output_type": "stream",
     "text": [
      "[-2.5758293  2.5758293]\n"
     ]
    }
   ],
   "source": [
    "#Compute critical values for a significance level of 0.01\n",
    "critical_values_z=st.norm.ppf([0.005,0.995])\n",
    "print(critical_values_z)"
   ]
  },
  {
   "cell_type": "markdown",
   "metadata": {},
   "source": [
    "Since the z_score (-5.48) is smaller than our lower z score critical value, we reject the null hypothesis. It is very unlikely that normal body temperature is 98.6 F. \n",
    "\n",
    "The same conclusion is reached both using t and z statistics. With a small sample size, we see that we reach to a different conclusion that if we use the whole dataset."
   ]
  },
  {
   "cell_type": "markdown",
   "metadata": {},
   "source": [
    "<h3>Question 4</h3>"
   ]
  },
  {
   "cell_type": "code",
   "execution_count": 19,
   "metadata": {},
   "outputs": [
    {
     "name": "stdout",
     "output_type": "stream",
     "text": [
      "[98.  98.8 98.8 98.6 97.7 98.7 98.4 97.8 98.3 96.7]\n"
     ]
    }
   ],
   "source": [
    "#Draw a sample of 10 from the data\n",
    "np.random.seed(20)\n",
    "sample=np.random.choice(df.temperature,size=10)\n",
    "print(sample)"
   ]
  },
  {
   "cell_type": "code",
   "execution_count": 20,
   "metadata": {},
   "outputs": [
    {
     "name": "stdout",
     "output_type": "stream",
     "text": [
      "t-score:  -2.133326883375196\n"
     ]
    }
   ],
   "source": [
    "#Compute t-score of the sample\n",
    "t_score_10=t_score_from_bt(sample)\n",
    "print('t-score: ',t_score_10)"
   ]
  },
  {
   "cell_type": "code",
   "execution_count": 21,
   "metadata": {},
   "outputs": [
    {
     "name": "stdout",
     "output_type": "stream",
     "text": [
      "[-2.61447868  2.61447868]\n"
     ]
    }
   ],
   "source": [
    "#Compute degrees of freedom in t-distribution\n",
    "dof_10=len(sample)-1\n",
    "\n",
    "#Compute t-scores for a significance level of 0.01\n",
    "critical_values_z_10=st.t.ppf([0.005,0.995], dof)\n",
    "print(critical_values_z_10)"
   ]
  },
  {
   "cell_type": "code",
   "execution_count": 22,
   "metadata": {},
   "outputs": [
    {
     "name": "stdout",
     "output_type": "stream",
     "text": [
      "z-score:  -2.133326883375196\n"
     ]
    }
   ],
   "source": [
    "#Assuming that for the sample of size 10 this is all the information we have, \n",
    "#again z_score=t_score as we estimate the population std from the sample std\n",
    "z_score_10=t_score_10\n",
    "print('z-score: ',z_score_10)"
   ]
  },
  {
   "cell_type": "code",
   "execution_count": 23,
   "metadata": {},
   "outputs": [
    {
     "name": "stdout",
     "output_type": "stream",
     "text": [
      "[-2.5758293  2.5758293]\n"
     ]
    }
   ],
   "source": [
    "#Compute z-scores for a significance level of 0.01\n",
    "critical_values_z_10=st.norm.ppf([0.005,0.995])\n",
    "print(critical_values_z_10)"
   ]
  },
  {
   "cell_type": "markdown",
   "metadata": {},
   "source": [
    "With a sample of 10, for both t and z statistic test we will accept the null hypothesis.\n",
    "\n",
    "For small data samples (less than 30) the t statistic is the correct one. We observe that the z-scores are more restrictive than the t-scores, so that there are less chances to accept the null hypothesis."
   ]
  },
  {
   "cell_type": "markdown",
   "metadata": {},
   "source": [
    "<h3>Question 5: At what temperature should we consider someone's temperature to be \"abnormal\"?</h3>"
   ]
  },
  {
   "cell_type": "markdown",
   "metadata": {},
   "source": [
    "Data is consider to be abnormal when it is an outlier, meaning when its distant from the mean is more than 3 standard deviations."
   ]
  },
  {
   "cell_type": "code",
   "execution_count": 24,
   "metadata": {},
   "outputs": [],
   "source": [
    "def confidence_interval(data,std_from_mean=3):\n",
    "    return [np.mean(data)-3*np.std(data),np.mean(data)+3*np.std(data)]"
   ]
  },
  {
   "cell_type": "code",
   "execution_count": 25,
   "metadata": {},
   "outputs": [
    {
     "name": "stdout",
     "output_type": "stream",
     "text": [
      "Confidence interval of temperature data:  [96.05815743251567, 100.44030410594588]\n"
     ]
    }
   ],
   "source": [
    "#Compute confidence interval for normal data (no outliers)\n",
    "sample_confidence_interval=confidence_interval(df.temperature)\n",
    "print('Confidence interval of temperature data: ',sample_confidence_interval)"
   ]
  },
  {
   "cell_type": "code",
   "execution_count": 26,
   "metadata": {},
   "outputs": [
    {
     "name": "stdout",
     "output_type": "stream",
     "text": [
      "Margin of error:  0.19216984408558008\n",
      "Temperature data size:  130\n"
     ]
    }
   ],
   "source": [
    "#Compute standard error of temperature data: se\n",
    "se=temp_std/len(df.temperature)**0.5\n",
    "\n",
    "#Critical value corresponding to outliers\n",
    "critical_value=3\n",
    "\n",
    "#Compute margin of error: me\n",
    "me= critical_value*se\n",
    "print('Margin of error: ',me)\n",
    "\n",
    "#Temperature sample size\n",
    "print('Temperature data size: ',len(df.temperature))"
   ]
  },
  {
   "cell_type": "code",
   "execution_count": 27,
   "metadata": {},
   "outputs": [],
   "source": [
    "#Generate bootstrap replicates computing the upper and lower limit of the confidence interval\n",
    "def draw_bs_ci_reps(data,reps=1):\n",
    "    bs_replicates_upper=np.empty(reps)\n",
    "    bs_replicates_lower=np.empty(reps)\n",
    "    for i in range(reps):\n",
    "            sample=np.random.choice(data, size=len(data))\n",
    "            bs_replicates_lower[i]=np.mean(sample)-3*np.std(sample)\n",
    "            bs_replicates_upper[i]=np.mean(sample)+3*np.std(sample)\n",
    "    return bs_replicates_lower,bs_replicates_upper"
   ]
  },
  {
   "cell_type": "code",
   "execution_count": 28,
   "metadata": {},
   "outputs": [
    {
     "data": {
      "image/png": "[encoded data removed]",
      "text/plain": [
       "<Figure size 432x288 with 1 Axes>"
      ]
     },
     "metadata": {},
     "output_type": "display_data"
    },
    {
     "name": "stdout",
     "output_type": "stream",
     "text": [
      "Lower limit 95% confidence interval:  [95.73736403 96.40532726]\n",
      "Upper limit 95% confidence interval:  [100.1061801  100.77519014]\n"
     ]
    }
   ],
   "source": [
    "#Create bootstrap samples of confidence interval lower and upper limits\n",
    "bs_replicates_lower, bs_replicates_upper= draw_bs_ci_reps(df.temperature,10000)\n",
    "\n",
    "#Plot upper and lower limit distributions\n",
    "plt.hist(bs_replicates_lower,bins=50,color='red',alpha=0.2, density=True)\n",
    "plt.hist(bs_replicates_upper,bins=50,color='blue',alpha=0.2, density=True)\n",
    "plt.title=('Limit normal values of temperature')\n",
    "plt.legend(('lower limit','upper limit'))\n",
    "plt.ylabel('PDF')\n",
    "plt.xlabel('temperature F')\n",
    "plt.show()\n",
    "\n",
    "#95% confidence interval for lower limit\n",
    "print('Lower limit 95% confidence interval: ',np.percentile(bs_replicates_lower,[2.5,97.5]))\n",
    "#95% confidence interval for upper limit\n",
    "print('Upper limit 95% confidence interval: ',np.percentile(bs_replicates_upper,[2.5,97.5]))"
   ]
  },
  {
   "cell_type": "markdown",
   "metadata": {},
   "source": [
    "After computing both confidence intervals for the upper and lower limits we can consider a body temperature to be abnormal when it is higher than 100.77 F or lower than 95.74 F."
   ]
  },
  {
   "cell_type": "markdown",
   "metadata": {},
   "source": [
    "<h3>Question 6: Is there a significant difference between males and females in normal temperature?</h3>"
   ]
  },
  {
   "cell_type": "markdown",
   "metadata": {},
   "source": [
    "Null hypothesis: the difference of mean temperature in males and females is zero.\n",
    "\n",
    "H0: μf-μm=0\n",
    "\n",
    "Ha: μf-μm≠0\n",
    "\n",
    "We will use a permutation test to prove it. The permutation test is better for hypothesis test than bootstrapping. In this case we have 2 independent samples so we can perform the permutation test with no problem."
   ]
  },
  {
   "cell_type": "code",
   "execution_count": 29,
   "metadata": {},
   "outputs": [],
   "source": [
    "#Extract male temperatures: male_temp\n",
    "male_temp=df[df.gender=='M'].temperature\n",
    "#Extract female temperatures: female_temp\n",
    "female_temp=df[df.gender=='F'].temperature"
   ]
  },
  {
   "cell_type": "code",
   "execution_count": 30,
   "metadata": {},
   "outputs": [
    {
     "data": {
      "image/png": "[encoded data removed]",
      "text/plain": [
       "<Figure size 432x288 with 1 Axes>"
      ]
     },
     "metadata": {},
     "output_type": "display_data"
    }
   ],
   "source": [
    "#Compute ecdf values from male and female temperatures\n",
    "x_male,y_male=ecdf(male_temp)\n",
    "x_female,y_female=ecdf(female_temp)\n",
    "\n",
    "#Plot ecdf\n",
    "plt.plot(x_male,y_male,marker='.',linestyle='none')\n",
    "plt.plot(x_female,y_female,marker='.',linestyle='none')\n",
    "\n",
    "#Add labels\n",
    "plt.ylabel('ECDF')\n",
    "plt.legend(('male','female'))\n",
    "plt.xlabel('temperature F')\n",
    "plt.show()"
   ]
  },
  {
   "cell_type": "markdown",
   "metadata": {},
   "source": [
    "Based on the ECDF plot, it looks like women have higher body temperature than men."
   ]
  },
  {
   "cell_type": "code",
   "execution_count": 31,
   "metadata": {},
   "outputs": [],
   "source": [
    "#Generate a permutation sample\n",
    "def permutation_sample(data):\n",
    "    perm=np.random.permutation(data)\n",
    "    data_1=perm[:int(len(data)/2)]\n",
    "    data_2=perm[int(len(data)/2):]\n",
    "    return data_1,data_2\n",
    "\n",
    "#Generate permutation replicates\n",
    "def draw_perm_reps(data,func,size=1):\n",
    "    # Initialize array of replicates: perm_replicates\n",
    "    perm_replicates=np.empty(size)\n",
    "    \n",
    "    for i in range(size):\n",
    "        #Generate permutation sample\n",
    "        perm_sample_1, perm_sample_2= permutation_sample(data)\n",
    "    \n",
    "        # Compute the test statistic\n",
    "        perm_replicates[i] = func(perm_sample_1,perm_sample_2)\n",
    "        \n",
    "    return perm_replicates\n",
    "\n",
    "#Compute difference of means\n",
    "def diff_of_means(data_1,data_2):\n",
    "    return np.mean(data_1)-np.mean(data_2)"
   ]
  },
  {
   "cell_type": "code",
   "execution_count": 32,
   "metadata": {},
   "outputs": [
    {
     "name": "stdout",
     "output_type": "stream",
     "text": [
      "Empirical difference of means (male-female):  -0.289230769230727\n",
      "p-value:  0.9871\n"
     ]
    }
   ],
   "source": [
    "#Compute empirical difference of means\n",
    "empirical_diff_means=diff_of_means(male_temp,female_temp)\n",
    "print('Empirical difference of means (male-female): ',empirical_diff_means)\n",
    "\n",
    "#Draw 10,000 permutation replicates: perm_replicates\n",
    "perm_replicates=draw_perm_reps(df.temperature,diff_of_means,size=10000)\n",
    "\n",
    "#Compute p-value\n",
    "p_value=np.sum(perm_replicates>=empirical_diff_means)/len(perm_replicates)\n",
    "print('p-value: ',p_value)"
   ]
  },
  {
   "cell_type": "markdown",
   "metadata": {},
   "source": [
    "There is a 98.77% probability of observing a test statistic equally or more extreme than the one you observed, given that the null hypothesis is true. \n",
    "\n",
    "At a confidence level of 95%, provided that this is a two tailed test, the null hypothesis would be rejected. The p-value is higher than 97.5%. "
   ]
  },
  {
   "cell_type": "markdown",
   "metadata": {},
   "source": [
    "<h4>Conclusions</h4>\n",
    "\n",
    "Based on the results of our test, we have rejected the null hypothesis at a 95% confidence level. This suggest that normal body temperature in men and woman is different. Based on this results, it might be worth it to reformulate the original question (What is the true normal human body temperature?) based on gender. "
   ]
  }
 ],
 "metadata": {
  "kernelspec": {
   "display_name": "Python 3",
   "language": "python",
   "name": "python3"
  },
  "language_info": {
   "codemirror_mode": {
    "name": "ipython",
    "version": 3
   },
   "file_extension": ".py",
   "mimetype": "text/x-python",
   "name": "python",
   "nbconvert_exporter": "python",
   "pygments_lexer": "ipython3",
   "version": "3.6.5"
  }
 },
 "nbformat": 4,
 "nbformat_minor": 1
}
